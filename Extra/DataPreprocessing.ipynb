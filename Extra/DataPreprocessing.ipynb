{
 "cells": [
  {
   "cell_type": "code",
   "execution_count": 1,
   "id": "1b5a446d-7972-4c59-951c-cf571d4d2468",
   "metadata": {},
   "outputs": [],
   "source": [
    "import numpy as np\n",
    "import glob\n",
    "import os \n",
    "import pandas as pd\n",
    "import matplotlib.pyplot as plt\n",
    "import seaborn as sns\n",
    "%matplotlib inline"
   ]
  },
  {
   "cell_type": "code",
   "execution_count": 34,
   "id": "170e67dd-faa1-4956-afed-8be960cd1828",
   "metadata": {},
   "outputs": [],
   "source": [
    "#read csv and create a dataframe\n",
    "df = pd.read_csv('science_&stem_salaries.csv')"
   ]
  },
  {
   "cell_type": "code",
   "execution_count": 35,
   "id": "1d47e2b8-6cf2-472b-b2ed-0ec628f10838",
   "metadata": {},
   "outputs": [
    {
     "name": "stdout",
     "output_type": "stream",
     "text": [
      "<class 'pandas.core.frame.DataFrame'>\n",
      "RangeIndex: 62642 entries, 0 to 62641\n",
      "Data columns (total 29 columns):\n",
      " #   Column                   Non-Null Count  Dtype  \n",
      "---  ------                   --------------  -----  \n",
      " 0   timestamp                62642 non-null  object \n",
      " 1   company                  62637 non-null  object \n",
      " 2   level                    62523 non-null  object \n",
      " 3   title                    62642 non-null  object \n",
      " 4   totalyearlycompensation  62642 non-null  int64  \n",
      " 5   location                 62642 non-null  object \n",
      " 6   yearsofexperience        62642 non-null  float64\n",
      " 7   yearsatcompany           62642 non-null  float64\n",
      " 8   tag                      61788 non-null  object \n",
      " 9   basesalary               62642 non-null  float64\n",
      " 10  stockgrantvalue          62642 non-null  float64\n",
      " 11  bonus                    62642 non-null  float64\n",
      " 12  gender                   43102 non-null  object \n",
      " 13  otherdetails             40137 non-null  object \n",
      " 14  cityid                   62642 non-null  int64  \n",
      " 15  dmaid                    62640 non-null  float64\n",
      " 16  rowNumber                62642 non-null  int64  \n",
      " 17  Masters_Degree           62642 non-null  int64  \n",
      " 18  Bachelors_Degree         62642 non-null  int64  \n",
      " 19  Doctorate_Degree         62642 non-null  int64  \n",
      " 20  Highschool               62642 non-null  int64  \n",
      " 21  Some_College             62642 non-null  int64  \n",
      " 22  Race_Asian               62642 non-null  int64  \n",
      " 23  Race_White               62642 non-null  int64  \n",
      " 24  Race_Two_Or_More         62642 non-null  int64  \n",
      " 25  Race_Black               62642 non-null  int64  \n",
      " 26  Race_Hispanic            62642 non-null  int64  \n",
      " 27  Race                     22427 non-null  object \n",
      " 28  Education                30370 non-null  object \n",
      "dtypes: float64(6), int64(13), object(10)\n",
      "memory usage: 13.9+ MB\n"
     ]
    }
   ],
   "source": [
    "df.info()"
   ]
  },
  {
   "cell_type": "code",
   "execution_count": null,
   "id": "c526f9d1-fb37-4471-9559-2baa8263e2e6",
   "metadata": {},
   "outputs": [],
   "source": [
    "df.describe()"
   ]
  },
  {
   "cell_type": "code",
   "execution_count": null,
   "id": "23ddcef2-9a74-495e-bba9-b5c3d67cac3c",
   "metadata": {},
   "outputs": [],
   "source": [
    "# we leave a holdout set, not to open until finishing the modeling\n",
    "from sklearn.model_selection import train_test_split\n",
    "\n",
    "df, test_df = train_test_split(df, test_size=0.2, random_state=42)"
   ]
  },
  {
   "cell_type": "code",
   "execution_count": null,
   "id": "23c5d103-eb3d-48d3-bd5a-27b73375e80a",
   "metadata": {},
   "outputs": [],
   "source": [
    "df = df[['timestamp','company', 'level', 'title', 'totalyearlycompensation',\n",
    "       'location', 'yearsofexperience', 'yearsatcompany', 'tag', 'basesalary',\n",
    "       'stockgrantvalue', 'bonus', 'gender', 'Race', 'Education']]\n",
    "\n",
    "df.shape # our real dataset consists of 14 features and 1 target variable"
   ]
  },
  {
   "cell_type": "code",
   "execution_count": null,
   "id": "33d75195-5941-4e8a-98f8-a272cd010ad9",
   "metadata": {},
   "outputs": [],
   "source": [
    "import seaborn as sns \n",
    "fig, ax = plt.subplots( nrows = 2, figsize = (18,4) )  \n",
    "\n",
    "sns.boxplot( df.basesalary, ax = ax[0] )\n",
    "\n",
    "sns.boxplot( df.totalyearlycompensation, ax = ax[1] ,)"
   ]
  },
  {
   "cell_type": "code",
   "execution_count": null,
   "id": "389470c2-98ec-4f30-92ce-e4954e164eb0",
   "metadata": {},
   "outputs": [],
   "source": [
    "df.corr()['basesalary']"
   ]
  },
  {
   "cell_type": "markdown",
   "id": "0afc1db7-8a5a-4ef2-a766-915cfb78c9ce",
   "metadata": {},
   "source": [
    "### \"stockgrantvalue\" and \"totalyearlycompensation\" both have high correlation with base salary, but in reality we shouldn't use this columns because they won't be available once we    want to predict for a new position. These columns are invalid for a predictive model so I'll need to remove them"
   ]
  },
  {
   "cell_type": "code",
   "execution_count": null,
   "id": "644104cc-5bc5-4cd7-9862-c003674df4f3",
   "metadata": {},
   "outputs": [],
   "source": [
    "# I remove very low salary values which could be results of failed scraping, and very high values (2% of outliers)\n",
    "df = df[df.basesalary > 10 ]\n",
    "q98 = np.quantile(df.basesalary,0.98)\n",
    "print(q98)\n",
    "df.loc[ df.basesalary >q98 , 'basesalary'] =q98"
   ]
  },
  {
   "cell_type": "code",
   "execution_count": null,
   "id": "eeac7e79-40bb-4948-a809-a764ced1b211",
   "metadata": {},
   "outputs": [],
   "source": [
    "df.isna().sum()"
   ]
  },
  {
   "cell_type": "code",
   "execution_count": null,
   "id": "7d18fb1f-092c-48ee-b4f8-8c74aa95c62e",
   "metadata": {},
   "outputs": [],
   "source": [
    "# drop rows in columns which NAs are very few and so dropping the whole row doesn't remove that much information from the data\n",
    "df = df.dropna(subset = ['level', 'tag', 'company'])\n",
    "df.isna().sum()\n"
   ]
  },
  {
   "cell_type": "code",
   "execution_count": null,
   "id": "711e7426-6062-4e03-a70f-26d4ea4bd689",
   "metadata": {},
   "outputs": [],
   "source": [
    "# new variable keeping only date and assigning it a ranking based on chronology\n",
    "df['datestamp']= df.timestamp.dt.date\n",
    "\n",
    "df_timestamp = df.datestamp.drop_duplicates().sort_values().reset_index().reset_index()[['level_0','datestamp']]\n",
    "\n",
    "df = df.merge(df_timestamp).rename(columns = {'level_0': 'date_rank'})\n",
    "\n",
    "del df['datestamp']\n",
    "del df['timestamp']"
   ]
  },
  {
   "cell_type": "markdown",
   "id": "8c7e1667-67c5-4339-baa5-f9e776d9c3db",
   "metadata": {},
   "source": [
    "## categorical variables encoding \n",
    "https://towardsdatascience.com/all-about-categorical-variable-encoding-305f3361fd02"
   ]
  },
  {
   "cell_type": "code",
   "execution_count": null,
   "id": "b6b13571-0285-48dc-8908-d98599c7a410",
   "metadata": {},
   "outputs": [],
   "source": [
    "cat_feats = ['company', 'level', 'title', 'location', 'tag', 'gender', 'Race', 'Education']"
   ]
  },
  {
   "cell_type": "code",
   "execution_count": null,
   "id": "a275c80f-516d-4274-aaf7-994e6e60705e",
   "metadata": {},
   "outputs": [],
   "source": [
    "df[cat_feats].describe().T.sort_values('unique')"
   ]
  },
  {
   "cell_type": "code",
   "execution_count": null,
   "id": "11c31210-0d82-494f-bc3e-d26a2a9886dd",
   "metadata": {},
   "outputs": [],
   "source": []
  }
 ],
 "metadata": {
  "kernelspec": {
   "display_name": "mlenv",
   "language": "python",
   "name": "mlenv"
  },
  "language_info": {
   "codemirror_mode": {
    "name": "ipython",
    "version": 3
   },
   "file_extension": ".py",
   "mimetype": "text/x-python",
   "name": "python",
   "nbconvert_exporter": "python",
   "pygments_lexer": "ipython3",
   "version": "3.7.11"
  }
 },
 "nbformat": 4,
 "nbformat_minor": 5
}
