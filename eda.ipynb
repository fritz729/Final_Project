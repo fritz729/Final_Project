{
 "cells": [
  {
   "cell_type": "code",
   "execution_count": null,
   "id": "e5e44c82",
   "metadata": {},
   "outputs": [],
   "source": []
  },
  {
   "cell_type": "code",
   "execution_count": 2,
   "id": "67eb57b0-ef1a-4171-a633-c79a771a978a",
   "metadata": {},
   "outputs": [],
   "source": [
    "import pandas as pd \n",
    "import matplotlib.pyplot as plt \n",
    "import seaborn as sns "
   ]
  },
  {
   "cell_type": "code",
   "execution_count": 4,
   "id": "8fa13cb5-45bc-47c6-949c-8b072a5c8f3d",
   "metadata": {},
   "outputs": [],
   "source": [
    "df = pd.read_csv('Resources/data_cleaned_2021.csv')"
   ]
  },
  {
   "cell_type": "code",
   "execution_count": 5,
   "id": "172feb6b-98ca-4cdb-9048-0c5f732cc5af",
   "metadata": {},
   "outputs": [
    {
     "data": {
      "text/html": [
       "<div>\n",
       "<style scoped>\n",
       "    .dataframe tbody tr th:only-of-type {\n",
       "        vertical-align: middle;\n",
       "    }\n",
       "\n",
       "    .dataframe tbody tr th {\n",
       "        vertical-align: top;\n",
       "    }\n",
       "\n",
       "    .dataframe thead th {\n",
       "        text-align: right;\n",
       "    }\n",
       "</style>\n",
       "<table border=\"1\" class=\"dataframe\">\n",
       "  <thead>\n",
       "    <tr style=\"text-align: right;\">\n",
       "      <th></th>\n",
       "      <th>index</th>\n",
       "      <th>Job Title</th>\n",
       "      <th>Salary Estimate</th>\n",
       "      <th>Job Description</th>\n",
       "      <th>Rating</th>\n",
       "      <th>Company Name</th>\n",
       "      <th>Location</th>\n",
       "      <th>Headquarters</th>\n",
       "      <th>Size</th>\n",
       "      <th>Founded</th>\n",
       "      <th>...</th>\n",
       "      <th>tensor</th>\n",
       "      <th>hadoop</th>\n",
       "      <th>tableau</th>\n",
       "      <th>bi</th>\n",
       "      <th>flink</th>\n",
       "      <th>mongo</th>\n",
       "      <th>google_an</th>\n",
       "      <th>job_title_sim</th>\n",
       "      <th>seniority_by_title</th>\n",
       "      <th>Degree</th>\n",
       "    </tr>\n",
       "  </thead>\n",
       "  <tbody>\n",
       "    <tr>\n",
       "      <th>0</th>\n",
       "      <td>0</td>\n",
       "      <td>Data Scientist</td>\n",
       "      <td>$53K-$91K (Glassdoor est.)</td>\n",
       "      <td>Data Scientist\\nLocation: Albuquerque, NM\\nEdu...</td>\n",
       "      <td>3.8</td>\n",
       "      <td>Tecolote Research\\n3.8</td>\n",
       "      <td>Albuquerque, NM</td>\n",
       "      <td>Goleta, CA</td>\n",
       "      <td>501 - 1000</td>\n",
       "      <td>1973</td>\n",
       "      <td>...</td>\n",
       "      <td>0</td>\n",
       "      <td>0</td>\n",
       "      <td>1</td>\n",
       "      <td>1</td>\n",
       "      <td>0</td>\n",
       "      <td>0</td>\n",
       "      <td>0</td>\n",
       "      <td>data scientist</td>\n",
       "      <td>na</td>\n",
       "      <td>M</td>\n",
       "    </tr>\n",
       "    <tr>\n",
       "      <th>1</th>\n",
       "      <td>1</td>\n",
       "      <td>Healthcare Data Scientist</td>\n",
       "      <td>$63K-$112K (Glassdoor est.)</td>\n",
       "      <td>What You Will Do:\\n\\nI. General Summary\\n\\nThe...</td>\n",
       "      <td>3.4</td>\n",
       "      <td>University of Maryland Medical System\\n3.4</td>\n",
       "      <td>Linthicum, MD</td>\n",
       "      <td>Baltimore, MD</td>\n",
       "      <td>10000+</td>\n",
       "      <td>1984</td>\n",
       "      <td>...</td>\n",
       "      <td>0</td>\n",
       "      <td>0</td>\n",
       "      <td>0</td>\n",
       "      <td>0</td>\n",
       "      <td>0</td>\n",
       "      <td>0</td>\n",
       "      <td>0</td>\n",
       "      <td>data scientist</td>\n",
       "      <td>na</td>\n",
       "      <td>M</td>\n",
       "    </tr>\n",
       "    <tr>\n",
       "      <th>2</th>\n",
       "      <td>2</td>\n",
       "      <td>Data Scientist</td>\n",
       "      <td>$80K-$90K (Glassdoor est.)</td>\n",
       "      <td>KnowBe4, Inc. is a high growth information sec...</td>\n",
       "      <td>4.8</td>\n",
       "      <td>KnowBe4\\n4.8</td>\n",
       "      <td>Clearwater, FL</td>\n",
       "      <td>Clearwater, FL</td>\n",
       "      <td>501 - 1000</td>\n",
       "      <td>2010</td>\n",
       "      <td>...</td>\n",
       "      <td>0</td>\n",
       "      <td>0</td>\n",
       "      <td>0</td>\n",
       "      <td>0</td>\n",
       "      <td>0</td>\n",
       "      <td>0</td>\n",
       "      <td>0</td>\n",
       "      <td>data scientist</td>\n",
       "      <td>na</td>\n",
       "      <td>M</td>\n",
       "    </tr>\n",
       "    <tr>\n",
       "      <th>3</th>\n",
       "      <td>3</td>\n",
       "      <td>Data Scientist</td>\n",
       "      <td>$56K-$97K (Glassdoor est.)</td>\n",
       "      <td>*Organization and Job ID**\\nJob ID: 310709\\n\\n...</td>\n",
       "      <td>3.8</td>\n",
       "      <td>PNNL\\n3.8</td>\n",
       "      <td>Richland, WA</td>\n",
       "      <td>Richland, WA</td>\n",
       "      <td>1001 - 5000</td>\n",
       "      <td>1965</td>\n",
       "      <td>...</td>\n",
       "      <td>0</td>\n",
       "      <td>0</td>\n",
       "      <td>0</td>\n",
       "      <td>0</td>\n",
       "      <td>0</td>\n",
       "      <td>0</td>\n",
       "      <td>0</td>\n",
       "      <td>data scientist</td>\n",
       "      <td>na</td>\n",
       "      <td>na</td>\n",
       "    </tr>\n",
       "    <tr>\n",
       "      <th>4</th>\n",
       "      <td>4</td>\n",
       "      <td>Data Scientist</td>\n",
       "      <td>$86K-$143K (Glassdoor est.)</td>\n",
       "      <td>Data Scientist\\nAffinity Solutions / Marketing...</td>\n",
       "      <td>2.9</td>\n",
       "      <td>Affinity Solutions\\n2.9</td>\n",
       "      <td>New York, NY</td>\n",
       "      <td>New York, NY</td>\n",
       "      <td>51 - 200</td>\n",
       "      <td>1998</td>\n",
       "      <td>...</td>\n",
       "      <td>0</td>\n",
       "      <td>0</td>\n",
       "      <td>0</td>\n",
       "      <td>0</td>\n",
       "      <td>0</td>\n",
       "      <td>0</td>\n",
       "      <td>0</td>\n",
       "      <td>data scientist</td>\n",
       "      <td>na</td>\n",
       "      <td>na</td>\n",
       "    </tr>\n",
       "  </tbody>\n",
       "</table>\n",
       "<p>5 rows × 42 columns</p>\n",
       "</div>"
      ],
      "text/plain": [
       "   index                  Job Title              Salary Estimate  \\\n",
       "0      0             Data Scientist   $53K-$91K (Glassdoor est.)   \n",
       "1      1  Healthcare Data Scientist  $63K-$112K (Glassdoor est.)   \n",
       "2      2             Data Scientist   $80K-$90K (Glassdoor est.)   \n",
       "3      3             Data Scientist   $56K-$97K (Glassdoor est.)   \n",
       "4      4             Data Scientist  $86K-$143K (Glassdoor est.)   \n",
       "\n",
       "                                     Job Description  Rating  \\\n",
       "0  Data Scientist\\nLocation: Albuquerque, NM\\nEdu...     3.8   \n",
       "1  What You Will Do:\\n\\nI. General Summary\\n\\nThe...     3.4   \n",
       "2  KnowBe4, Inc. is a high growth information sec...     4.8   \n",
       "3  *Organization and Job ID**\\nJob ID: 310709\\n\\n...     3.8   \n",
       "4  Data Scientist\\nAffinity Solutions / Marketing...     2.9   \n",
       "\n",
       "                                 Company Name         Location  \\\n",
       "0                      Tecolote Research\\n3.8  Albuquerque, NM   \n",
       "1  University of Maryland Medical System\\n3.4    Linthicum, MD   \n",
       "2                                KnowBe4\\n4.8   Clearwater, FL   \n",
       "3                                   PNNL\\n3.8     Richland, WA   \n",
       "4                     Affinity Solutions\\n2.9     New York, NY   \n",
       "\n",
       "     Headquarters          Size  Founded  ... tensor hadoop tableau bi flink  \\\n",
       "0      Goleta, CA   501 - 1000      1973  ...      0      0       1  1     0   \n",
       "1   Baltimore, MD       10000+      1984  ...      0      0       0  0     0   \n",
       "2  Clearwater, FL   501 - 1000      2010  ...      0      0       0  0     0   \n",
       "3    Richland, WA  1001 - 5000      1965  ...      0      0       0  0     0   \n",
       "4    New York, NY     51 - 200      1998  ...      0      0       0  0     0   \n",
       "\n",
       "   mongo  google_an   job_title_sim  seniority_by_title  Degree  \n",
       "0      0          0  data scientist                  na       M  \n",
       "1      0          0  data scientist                  na       M  \n",
       "2      0          0  data scientist                  na       M  \n",
       "3      0          0  data scientist                  na      na  \n",
       "4      0          0  data scientist                  na      na  \n",
       "\n",
       "[5 rows x 42 columns]"
      ]
     },
     "execution_count": 5,
     "metadata": {},
     "output_type": "execute_result"
    }
   ],
   "source": [
    "df.head()"
   ]
  },
  {
   "cell_type": "code",
   "execution_count": 6,
   "id": "1185e2a4-aaca-49be-8bf9-d5fcd572d5a9",
   "metadata": {},
   "outputs": [
    {
     "data": {
      "text/plain": [
       "Index(['index', 'Job Title', 'Salary Estimate', 'Job Description', 'Rating',\n",
       "       'Company Name', 'Location', 'Headquarters', 'Size', 'Founded',\n",
       "       'Type of ownership', 'Industry', 'Sector', 'Revenue', 'Competitors',\n",
       "       'Hourly', 'Employer provided', 'Lower Salary', 'Upper Salary',\n",
       "       'Avg_Salary', 'company_txt', 'Job Location', 'Age', 'Python', 'spark',\n",
       "       'aws', 'excel', 'sql', 'sas', 'keras', 'pytorch', 'scikit', 'tensor',\n",
       "       'hadoop', 'tableau', 'bi', 'flink', 'mongo', 'google_an',\n",
       "       'job_title_sim', 'seniority_by_title', 'Degree'],\n",
       "      dtype='object')"
      ]
     },
     "execution_count": 6,
     "metadata": {},
     "output_type": "execute_result"
    }
   ],
   "source": [
    "df.columns"
   ]
  },
  {
   "cell_type": "code",
   "execution_count": 7,
   "id": "9031b1f1-fe51-4f6d-b2c7-f6332943cff4",
   "metadata": {},
   "outputs": [],
   "source": [
    "## Job title and seniority \n",
    "##  Fix state Los Angeles \n",
    "##  Job description length \n",
    "## Competitor count\n",
    "## hourly wage to annual \n",
    "## remove new line from job title\n",
    "def title_simplifier(title):\n",
    "    if 'data scientist' in title.lower():\n",
    "        return 'data scientist'\n",
    "    elif 'data engineer' in title.lower():\n",
    "        return 'data engineer'\n",
    "    elif 'analyst' in title.lower():\n",
    "        return 'analyst'\n",
    "    elif 'machine learning' in title.lower():\n",
    "        return 'mle'\n",
    "    elif 'manager' in title.lower():\n",
    "        return 'manager'\n",
    "    elif 'director' in title.lower():\n",
    "        return 'director'\n",
    "    else:\n",
    "        return 'na'\n",
    "    \n",
    "def seniority(title):\n",
    "    if 'sr' in title.lower() or 'senior' in title.lower() or 'sr' in title.lower() or 'lead' in title.lower() or 'principal' in title.lower():\n",
    "            return 'senior'\n",
    "    elif 'jr' in title.lower() or 'jr.' in title.lower():\n",
    "        return 'jr'\n",
    "    else:\n",
    "        return 'na'"
   ]
  },
  {
   "cell_type": "code",
   "execution_count": 8,
   "id": "439b8b84-6a8c-4afe-a36d-aa2c8c4de022",
   "metadata": {},
   "outputs": [],
   "source": [
    "df['job_simp'] = df['Job Title'].apply(title_simplifier)"
   ]
  },
  {
   "cell_type": "code",
   "execution_count": 9,
   "id": "d7f1ef0a-79ed-4334-aaac-e1387f48b4ee",
   "metadata": {},
   "outputs": [
    {
     "data": {
      "text/plain": [
       "data scientist    279\n",
       "na                184\n",
       "data engineer     119\n",
       "analyst           102\n",
       "manager            22\n",
       "mle                22\n",
       "director           14\n",
       "Name: job_simp, dtype: int64"
      ]
     },
     "execution_count": 9,
     "metadata": {},
     "output_type": "execute_result"
    }
   ],
   "source": [
    "df.job_simp.value_counts()"
   ]
  },
  {
   "cell_type": "code",
   "execution_count": 10,
   "id": "e17c5152-9fff-4bd0-9f33-478e5d7cc3f1",
   "metadata": {},
   "outputs": [
    {
     "data": {
      "text/plain": [
       "na        520\n",
       "senior    220\n",
       "jr          2\n",
       "Name: seniority, dtype: int64"
      ]
     },
     "execution_count": 10,
     "metadata": {},
     "output_type": "execute_result"
    }
   ],
   "source": [
    "df['seniority'] = df['Job Title'].apply(seniority)\n",
    "df.seniority.value_counts()"
   ]
  },
  {
   "cell_type": "code",
   "execution_count": 12,
   "id": "bdaa2b1c-bf3c-4b97-a99d-0a65b7f8d6a5",
   "metadata": {},
   "outputs": [
    {
     "data": {
      "text/plain": [
       "New York, NY                         55\n",
       "San Francisco, CA                    49\n",
       "Cambridge, MA                        47\n",
       "Chicago, IL                          32\n",
       "Boston, MA                           23\n",
       "                                     ..\n",
       "Santa Fe Springs, Los Angeles, CA     1\n",
       "Kansas City, MO                       1\n",
       "Columbia, SC                          1\n",
       "Red Bank, NJ                          1\n",
       "Olympia, WA                           1\n",
       "Name: Location, Length: 200, dtype: int64"
      ]
     },
     "execution_count": 12,
     "metadata": {},
     "output_type": "execute_result"
    }
   ],
   "source": [
    "# Fix state Los Angeles \n",
    "df['job_state']= df.Location.apply(lambda x: x.strip() if x.strip().lower() != 'los angeles' else 'CA')\n",
    "df.Location.value_counts()"
   ]
  },
  {
   "cell_type": "code",
   "execution_count": 13,
   "id": "c5a68f56-6926-498e-b3fc-1944a4b18e91",
   "metadata": {},
   "outputs": [
    {
     "data": {
      "text/plain": [
       "0      2536\n",
       "1      4783\n",
       "2      3461\n",
       "3      3883\n",
       "4      2728\n",
       "       ... \n",
       "737    6162\n",
       "738    6130\n",
       "739    3078\n",
       "740    1642\n",
       "741    3673\n",
       "Name: desc_len, Length: 742, dtype: int64"
      ]
     },
     "execution_count": 13,
     "metadata": {},
     "output_type": "execute_result"
    }
   ],
   "source": [
    "#  Job description length \n",
    "df['desc_len'] = df['Job Description'].apply(lambda x: len(x))\n",
    "df['desc_len']\n"
   ]
  },
  {
   "cell_type": "code",
   "execution_count": 14,
   "id": "0d900419-0d5d-4dca-be1f-f23841beb767",
   "metadata": {},
   "outputs": [],
   "source": [
    "#Competitor count\n",
    "df['num_comp'] = df['Competitors'].apply(lambda x: len(x.split(',')) if x != '-1' else 0)"
   ]
  },
  {
   "cell_type": "code",
   "execution_count": 15,
   "id": "0696a18e-fdab-4433-88c1-5aaf975c22a2",
   "metadata": {},
   "outputs": [
    {
     "data": {
      "text/plain": [
       "0                                                     -1\n",
       "1                                                     -1\n",
       "2                                                     -1\n",
       "3      Oak Ridge National Laboratory, National Renewa...\n",
       "4                   Commerce Signals, Cardlytics, Yodlee\n",
       "                             ...                        \n",
       "737                           Pfizer, AstraZeneca, Merck\n",
       "738                      See Tickets, TicketWeb, Vendini\n",
       "739                                                   -1\n",
       "740                                                   -1\n",
       "741                                                   -1\n",
       "Name: Competitors, Length: 742, dtype: object"
      ]
     },
     "execution_count": 15,
     "metadata": {},
     "output_type": "execute_result"
    }
   ],
   "source": [
    "df['Competitors']"
   ]
  },
  {
   "cell_type": "code",
   "execution_count": null,
   "id": "ae743328-caf9-41df-99e3-4722aa9d42d1",
   "metadata": {},
   "outputs": [],
   "source": [
    "#hourly wage to annual \n",
    "\n",
    "df['min_salary'] = df.apply(lambda x: x.min_salary*2 if x.Hourly ==1 else x.min_salary, axis =1)\n",
    "df['max_salary'] = df.apply(lambda x: x.max_salary*2 if x.Hourly ==1 else x.max_salary, axis =1)"
   ]
  },
  {
   "cell_type": "code",
   "execution_count": null,
   "id": "72223b0f-cb9f-4bfc-acbb-59bcac33afb0",
   "metadata": {},
   "outputs": [],
   "source": []
  }
 ],
 "metadata": {
  "kernelspec": {
   "display_name": "mlenv",
   "language": "python",
   "name": "mlenv"
  },
  "language_info": {
   "codemirror_mode": {
    "name": "ipython",
    "version": 3
   },
   "file_extension": ".py",
   "mimetype": "text/x-python",
   "name": "python",
   "nbconvert_exporter": "python",
   "pygments_lexer": "ipython3",
   "version": "3.7.11"
  }
 },
 "nbformat": 4,
 "nbformat_minor": 5
}
