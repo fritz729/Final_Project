{
 "cells": [
  {
   "cell_type": "code",
   "execution_count": 1,
   "id": "ec890d08-4dd3-46bd-92a8-77fd1bd0aaad",
   "metadata": {},
   "outputs": [],
   "source": [
    "import numpy as np\n",
    "import matplotlib.pyplot as plt\n",
    "import pandas as pd"
   ]
  },
  {
   "cell_type": "code",
   "execution_count": 2,
   "id": "54b2ebc2-20e2-419d-b06f-826d76c823d6",
   "metadata": {},
   "outputs": [
    {
     "name": "stdout",
     "output_type": "stream",
     "text": [
      "                timestamp     company     level                         title  \\\n",
      "0       6/7/2017 11:33:27      Oracle        L3               Product Manager   \n",
      "1      6/10/2017 17:11:29        eBay      SE 2             Software Engineer   \n",
      "2      6/11/2017 14:53:57      Amazon        L7               Product Manager   \n",
      "3       6/17/2017 0:23:14       Apple        M1  Software Engineering Manager   \n",
      "4      6/20/2017 10:58:51   Microsoft        60             Software Engineer   \n",
      "...                   ...         ...       ...                           ...   \n",
      "62637   9/9/2018 11:52:32      Google        T4             Software Engineer   \n",
      "62638   9/13/2018 8:23:32   Microsoft        62             Software Engineer   \n",
      "62639  9/13/2018 14:35:59        MSFT        63             Software Engineer   \n",
      "62640  9/16/2018 16:10:35  Salesforce  Lead MTS             Software Engineer   \n",
      "62641   1/29/2019 5:12:59       apple      ict3             Software Engineer   \n",
      "\n",
      "       totalyearlycompensation           location  yearsofexperience  \\\n",
      "0                       127000   Redwood City, CA                1.5   \n",
      "1                       100000  San Francisco, CA                5.0   \n",
      "2                       310000        Seattle, WA                8.0   \n",
      "3                       372000      Sunnyvale, CA                7.0   \n",
      "4                       157000  Mountain View, CA                5.0   \n",
      "...                        ...                ...                ...   \n",
      "62637                   327000        Seattle, WA               10.0   \n",
      "62638                   237000        Redmond, WA                2.0   \n",
      "62639                   220000        Seattle, WA               14.0   \n",
      "62640                   280000  San Francisco, CA                8.0   \n",
      "62641                   200000      Sunnyvale, CA                0.0   \n",
      "\n",
      "       yearsatcompany                             tag  basesalary  ...  \\\n",
      "0                 1.5                             NaN    107000.0  ...   \n",
      "1                 3.0                             NaN         0.0  ...   \n",
      "2                 0.0                             NaN    155000.0  ...   \n",
      "3                 5.0                             NaN    157000.0  ...   \n",
      "4                 3.0                             NaN         0.0  ...   \n",
      "...               ...                             ...         ...  ...   \n",
      "62637             1.0  Distributed Systems (Back-End)    155000.0  ...   \n",
      "62638             2.0                      Full Stack    146900.0  ...   \n",
      "62639            12.0                      Full Stack    157000.0  ...   \n",
      "62640             4.0                             iOS    194688.0  ...   \n",
      "62641             0.0                         ML / AI    155000.0  ...   \n",
      "\n",
      "       Doctorate_Degree  Highschool Some_College Race_Asian  Race_White  \\\n",
      "0                     0           0            0          0           0   \n",
      "1                     0           0            0          0           0   \n",
      "2                     0           0            0          0           0   \n",
      "3                     0           0            0          0           0   \n",
      "4                     0           0            0          0           0   \n",
      "...                 ...         ...          ...        ...         ...   \n",
      "62637                 0           0            0          0           0   \n",
      "62638                 0           0            0          0           0   \n",
      "62639                 0           0            0          0           0   \n",
      "62640                 0           0            0          0           0   \n",
      "62641                 0           0            0          0           0   \n",
      "\n",
      "       Race_Two_Or_More  Race_Black  Race_Hispanic  Race  Education  \n",
      "0                     0           0              0   NaN        NaN  \n",
      "1                     0           0              0   NaN        NaN  \n",
      "2                     0           0              0   NaN        NaN  \n",
      "3                     0           0              0   NaN        NaN  \n",
      "4                     0           0              0   NaN        NaN  \n",
      "...                 ...         ...            ...   ...        ...  \n",
      "62637                 0           0              0   NaN        NaN  \n",
      "62638                 0           0              0   NaN        NaN  \n",
      "62639                 0           0              0   NaN        NaN  \n",
      "62640                 0           0              0   NaN        NaN  \n",
      "62641                 0           0              0   NaN        NaN  \n",
      "\n",
      "[62642 rows x 29 columns]\n"
     ]
    }
   ],
   "source": [
    "#read csv and create a dataframe\n",
    "df = pd.read_csv('Resources/Data_science_&stem_salaries.csv')\n",
    "print(df)"
   ]
  },
  {
   "cell_type": "code",
   "execution_count": 3,
   "id": "e61be34f-4928-417c-9595-6dc1d1eb8776",
   "metadata": {},
   "outputs": [
    {
     "name": "stdout",
     "output_type": "stream",
     "text": [
      "Index(['timestamp', 'company', 'level', 'title', 'totalyearlycompensation',\n",
      "       'location', 'yearsofexperience', 'yearsatcompany', 'tag', 'basesalary',\n",
      "       'stockgrantvalue', 'bonus', 'gender', 'otherdetails', 'cityid', 'dmaid',\n",
      "       'rowNumber', 'Masters_Degree', 'Bachelors_Degree', 'Doctorate_Degree',\n",
      "       'Highschool', 'Some_College', 'Race_Asian', 'Race_White',\n",
      "       'Race_Two_Or_More', 'Race_Black', 'Race_Hispanic', 'Race', 'Education'],\n",
      "      dtype='object')\n"
     ]
    }
   ],
   "source": [
    "print(df.columns)"
   ]
  },
  {
   "cell_type": "code",
   "execution_count": 4,
   "id": "8cc060a7-0d02-47b9-bd28-f9a2de3bba1a",
   "metadata": {},
   "outputs": [],
   "source": [
    "salaryDF = df[['company', 'totalyearlycompensation', 'yearsofexperience', 'yearsatcompany', 'basesalary']]"
   ]
  },
  {
   "cell_type": "code",
   "execution_count": 5,
   "id": "a4f7596e-c23a-43f8-ad65-33b163568738",
   "metadata": {},
   "outputs": [
    {
     "name": "stdout",
     "output_type": "stream",
     "text": [
      "     company  totalyearlycompensation  yearsofexperience  yearsatcompany  \\\n",
      "0     Oracle                   127000                1.5             1.5   \n",
      "1       eBay                   100000                5.0             3.0   \n",
      "2     Amazon                   310000                8.0             0.0   \n",
      "3      Apple                   372000                7.0             5.0   \n",
      "4  Microsoft                   157000                5.0             3.0   \n",
      "\n",
      "   basesalary  \n",
      "0    107000.0  \n",
      "1         0.0  \n",
      "2    155000.0  \n",
      "3    157000.0  \n",
      "4         0.0  \n"
     ]
    }
   ],
   "source": [
    "print(salaryDF.head())"
   ]
  },
  {
   "cell_type": "code",
   "execution_count": 6,
   "id": "98e98ce2-f67e-492d-9590-3592f8be2a37",
   "metadata": {},
   "outputs": [],
   "source": [
    "X = salaryDF.iloc[:,2:]\n",
    "y_train = salaryDF.iloc[:50000,1]\n",
    "y_test = salaryDF.iloc[50000:,1]\n",
    "\n",
    "rows = X.shape[0]\n",
    "count = 0\n",
    "N_TRAIN = 50000\n",
    "\n",
    "train_err = {}\n",
    "test_err = {}"
   ]
  },
  {
   "cell_type": "code",
   "execution_count": 7,
   "id": "07fd58c9-9f90-4f08-aa83-01d09c2f628e",
   "metadata": {},
   "outputs": [],
   "source": [
    "def rmse(targets, predictions):\n",
    "    return np.sqrt((np.square(predictions - targets)).mean())"
   ]
  },
  {
   "cell_type": "code",
   "execution_count": 12,
   "id": "16ceae86-c35b-46ec-b495-2d2337d28884",
   "metadata": {},
   "outputs": [
    {
     "name": "stdout",
     "output_type": "stream",
     "text": [
      "(62642, 4)\n",
      "[5. 3. 0. 1.]\n",
      "(50000, 4)\n",
      "92469.43809773956\n",
      "121382.52351504724\n",
      "(62642, 7)\n",
      "[ 5. 25.  3.  9.  0.  0.  1.]\n",
      "(50000, 7)\n",
      "91573.99026037076\n",
      "129644.37305767962\n",
      "(62642, 10)\n",
      "[  5.  25. 125.   3.   9.  27.   0.   0.   0.   1.]\n",
      "(50000, 10)\n",
      "82679.30803703998\n",
      "450246.9972901871\n",
      "(62642, 13)\n",
      "[  5.  25. 125. 625.   3.   9.  27.  81.   0.   0.   0.   0.   1.]\n",
      "(50000, 13)\n",
      "76200.18255097662\n",
      "1486057.670630892\n",
      "(62642, 16)\n",
      "[5.000e+00 2.500e+01 1.250e+02 6.250e+02 3.125e+03 3.000e+00 9.000e+00\n",
      " 2.700e+01 8.100e+01 2.430e+02 0.000e+00 0.000e+00 0.000e+00 0.000e+00\n",
      " 0.000e+00 1.000e+00]\n",
      "(50000, 16)\n",
      "75412.2914714069\n",
      "1535500.4793790847\n",
      "(62642, 19)\n",
      "[5.0000e+00 2.5000e+01 1.2500e+02 6.2500e+02 3.1250e+03 1.5625e+04\n",
      " 3.0000e+00 9.0000e+00 2.7000e+01 8.1000e+01 2.4300e+02 7.2900e+02\n",
      " 0.0000e+00 0.0000e+00 0.0000e+00 0.0000e+00 0.0000e+00 0.0000e+00\n",
      " 1.0000e+00]\n",
      "(50000, 19)\n",
      "75363.32976777239\n",
      "2845271.38744929\n",
      "(62642, 22)\n",
      "[5.0000e+00 2.5000e+01 1.2500e+02 6.2500e+02 3.1250e+03 1.5625e+04\n",
      " 7.8125e+04 3.0000e+00 9.0000e+00 2.7000e+01 8.1000e+01 2.4300e+02\n",
      " 7.2900e+02 2.1870e+03 0.0000e+00 0.0000e+00 0.0000e+00 0.0000e+00\n",
      " 0.0000e+00 0.0000e+00 0.0000e+00 1.0000e+00]\n",
      "(50000, 22)\n",
      "75241.29802239899\n",
      "30770498.11712253\n",
      "(62642, 25)\n",
      "[5.00000e+00 2.50000e+01 1.25000e+02 6.25000e+02 3.12500e+03 1.56250e+04\n",
      " 7.81250e+04 3.90625e+05 3.00000e+00 9.00000e+00 2.70000e+01 8.10000e+01\n",
      " 2.43000e+02 7.29000e+02 2.18700e+03 6.56100e+03 0.00000e+00 0.00000e+00\n",
      " 0.00000e+00 0.00000e+00 0.00000e+00 0.00000e+00 0.00000e+00 0.00000e+00\n",
      " 1.00000e+00]\n",
      "(50000, 25)\n",
      "74055.38122309145\n",
      "442935092.1064906\n",
      "(62642, 28)\n",
      "[5.000000e+00 2.500000e+01 1.250000e+02 6.250000e+02 3.125000e+03\n",
      " 1.562500e+04 7.812500e+04 3.906250e+05 1.953125e+06 3.000000e+00\n",
      " 9.000000e+00 2.700000e+01 8.100000e+01 2.430000e+02 7.290000e+02\n",
      " 2.187000e+03 6.561000e+03 1.968300e+04 0.000000e+00 0.000000e+00\n",
      " 0.000000e+00 0.000000e+00 0.000000e+00 0.000000e+00 0.000000e+00\n",
      " 0.000000e+00 0.000000e+00 1.000000e+00]\n",
      "(50000, 28)\n",
      "73222.35409137307\n",
      "1976681525.2098918\n",
      "(62642, 31)\n",
      "[5.000000e+00 2.500000e+01 1.250000e+02 6.250000e+02 3.125000e+03\n",
      " 1.562500e+04 7.812500e+04 3.906250e+05 1.953125e+06 9.765625e+06\n",
      " 3.000000e+00 9.000000e+00 2.700000e+01 8.100000e+01 2.430000e+02\n",
      " 7.290000e+02 2.187000e+03 6.561000e+03 1.968300e+04 5.904900e+04\n",
      " 0.000000e+00 0.000000e+00 0.000000e+00 0.000000e+00 0.000000e+00\n",
      " 0.000000e+00 0.000000e+00 0.000000e+00 0.000000e+00 0.000000e+00\n",
      " 1.000000e+00]\n",
      "(50000, 31)\n",
      "75673.14779033391\n",
      "2589648778.291596\n"
     ]
    }
   ],
   "source": [
    "#making the 5 models \n",
    "for i in range(1,11):\n",
    "  A = np.ones([rows, (3*i)+1])  #array to store all values for each model \n",
    "  print(A.shape)\n",
    "  for j in range(0,3):          #going through each coulmn \n",
    "    for k in range(1, i+1):     #\n",
    "        A[:,count]=np.power(np.array(X.iloc[:,j]).T, k)\n",
    "        count = count+1\n",
    "        \n",
    "  #splitting the x-values with monomials into training and testing\n",
    "  print(A[1])\n",
    "  x_train = A[0:N_TRAIN,:]\n",
    "  x_test = A[N_TRAIN:,:]\n",
    "  #cauclating the weight 'w'\n",
    "  print(x_train.shape)\n",
    "  w = np.linalg.inv(x_train.T.dot(x_train)).dot(x_train.T.dot(y_train))\n",
    "  #calculate training error\n",
    "  y_train_pred = x_train.dot(w)\n",
    "  rms_train = rmse(y_train, y_train_pred)\n",
    "  train_err[i] = rms_train\n",
    "  print(rms_train)\n",
    "    \n",
    "    \n",
    "  #calculate test error\n",
    "  y_test_pred = x_test.dot(w)\n",
    "  rms_test = rmse(y_test, y_test_pred)\n",
    "  print(rms_test)\n",
    "  test_err[i] = rms_test\n",
    "    \n",
    "  count = 0"
   ]
  },
  {
   "cell_type": "code",
   "execution_count": 13,
   "id": "2522a73c-6677-4c05-a3cd-3cb2012319d2",
   "metadata": {},
   "outputs": [
    {
     "data": {
      "image/png": "[encoded data removed]",
      "text/plain": [
       "<Figure size 432x288 with 1 Axes>"
      ]
     },
     "metadata": {
      "needs_background": "light"
     },
     "output_type": "display_data"
    }
   ],
   "source": [
    "# Produce a plot of results.\n",
    "plt.plot(list(train_err.keys()), list(train_err.values()))\n",
    "plt.plot(list(test_err.keys()), list(test_err.values()))\n",
    "plt.ylabel('RMS')\n",
    "plt.legend(['Test error','Training error'])\n",
    "plt.title('Fit with polynomials, no regularization')\n",
    "plt.xlabel('Polynomial degree')\n",
    "plt.show()"
   ]
  },
  {
   "cell_type": "code",
   "execution_count": null,
   "id": "724119cb-b0f2-4049-89d9-b88124000a01",
   "metadata": {},
   "outputs": [],
   "source": []
  }
 ],
 "metadata": {
  "kernelspec": {
   "display_name": "mlenv",
   "language": "python",
   "name": "mlenv"
  },
  "language_info": {
   "codemirror_mode": {
    "name": "ipython",
    "version": 3
   },
   "file_extension": ".py",
   "mimetype": "text/x-python",
   "name": "python",
   "nbconvert_exporter": "python",
   "pygments_lexer": "ipython3",
   "version": "3.7.11"
  }
 },
 "nbformat": 4,
 "nbformat_minor": 5
}
