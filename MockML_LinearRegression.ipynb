{
 "cells": [
  {
   "cell_type": "code",
   "execution_count": 1,
   "id": "8a48bfc0-f89b-42a1-b972-d13280a408ab",
   "metadata": {},
   "outputs": [],
   "source": [
    "import pandas as pd\n",
    "import numpy as np"
   ]
  },
  {
   "cell_type": "code",
   "execution_count": 8,
   "id": "7a0e5544-2538-474c-9691-80e74ccaf2d6",
   "metadata": {},
   "outputs": [
    {
     "name": "stdout",
     "output_type": "stream",
     "text": [
      "                timestamp     company     level                         title  \\\n",
      "0       6/7/2017 11:33:27      Oracle        L3               Product Manager   \n",
      "1      6/10/2017 17:11:29        eBay      SE 2             Software Engineer   \n",
      "2      6/11/2017 14:53:57      Amazon        L7               Product Manager   \n",
      "3       6/17/2017 0:23:14       Apple        M1  Software Engineering Manager   \n",
      "4      6/20/2017 10:58:51   Microsoft        60             Software Engineer   \n",
      "...                   ...         ...       ...                           ...   \n",
      "62637   9/9/2018 11:52:32      Google        T4             Software Engineer   \n",
      "62638   9/13/2018 8:23:32   Microsoft        62             Software Engineer   \n",
      "62639  9/13/2018 14:35:59        MSFT        63             Software Engineer   \n",
      "62640  9/16/2018 16:10:35  Salesforce  Lead MTS             Software Engineer   \n",
      "62641   1/29/2019 5:12:59       apple      ict3             Software Engineer   \n",
      "\n",
      "       totalyearlycompensation           location  yearsofexperience  \\\n",
      "0                       127000   Redwood City, CA                1.5   \n",
      "1                       100000  San Francisco, CA                5.0   \n",
      "2                       310000        Seattle, WA                8.0   \n",
      "3                       372000      Sunnyvale, CA                7.0   \n",
      "4                       157000  Mountain View, CA                5.0   \n",
      "...                        ...                ...                ...   \n",
      "62637                   327000        Seattle, WA               10.0   \n",
      "62638                   237000        Redmond, WA                2.0   \n",
      "62639                   220000        Seattle, WA               14.0   \n",
      "62640                   280000  San Francisco, CA                8.0   \n",
      "62641                   200000      Sunnyvale, CA                0.0   \n",
      "\n",
      "       yearsatcompany                             tag  basesalary  ...  \\\n",
      "0                 1.5                             NaN    107000.0  ...   \n",
      "1                 3.0                             NaN         0.0  ...   \n",
      "2                 0.0                             NaN    155000.0  ...   \n",
      "3                 5.0                             NaN    157000.0  ...   \n",
      "4                 3.0                             NaN         0.0  ...   \n",
      "...               ...                             ...         ...  ...   \n",
      "62637             1.0  Distributed Systems (Back-End)    155000.0  ...   \n",
      "62638             2.0                      Full Stack    146900.0  ...   \n",
      "62639            12.0                      Full Stack    157000.0  ...   \n",
      "62640             4.0                             iOS    194688.0  ...   \n",
      "62641             0.0                         ML / AI    155000.0  ...   \n",
      "\n",
      "       Doctorate_Degree  Highschool Some_College Race_Asian  Race_White  \\\n",
      "0                     0           0            0          0           0   \n",
      "1                     0           0            0          0           0   \n",
      "2                     0           0            0          0           0   \n",
      "3                     0           0            0          0           0   \n",
      "4                     0           0            0          0           0   \n",
      "...                 ...         ...          ...        ...         ...   \n",
      "62637                 0           0            0          0           0   \n",
      "62638                 0           0            0          0           0   \n",
      "62639                 0           0            0          0           0   \n",
      "62640                 0           0            0          0           0   \n",
      "62641                 0           0            0          0           0   \n",
      "\n",
      "       Race_Two_Or_More  Race_Black  Race_Hispanic  Race  Education  \n",
      "0                     0           0              0   NaN        NaN  \n",
      "1                     0           0              0   NaN        NaN  \n",
      "2                     0           0              0   NaN        NaN  \n",
      "3                     0           0              0   NaN        NaN  \n",
      "4                     0           0              0   NaN        NaN  \n",
      "...                 ...         ...            ...   ...        ...  \n",
      "62637                 0           0              0   NaN        NaN  \n",
      "62638                 0           0              0   NaN        NaN  \n",
      "62639                 0           0              0   NaN        NaN  \n",
      "62640                 0           0              0   NaN        NaN  \n",
      "62641                 0           0              0   NaN        NaN  \n",
      "\n",
      "[62642 rows x 29 columns]\n"
     ]
    }
   ],
   "source": [
    "#read csv and create a dataframe\n",
    "df = pd.read_csv('Resources/Data_science_&stem_salaries.csv')\n",
    "print(df)"
   ]
  },
  {
   "cell_type": "code",
   "execution_count": 9,
   "id": "8f91c278-41c4-42a5-9d9c-e87427ceff73",
   "metadata": {},
   "outputs": [
    {
     "name": "stdout",
     "output_type": "stream",
     "text": [
      "Index(['timestamp', 'company', 'level', 'title', 'totalyearlycompensation',\n",
      "       'location', 'yearsofexperience', 'yearsatcompany', 'tag', 'basesalary',\n",
      "       'stockgrantvalue', 'bonus', 'gender', 'otherdetails', 'cityid', 'dmaid',\n",
      "       'rowNumber', 'Masters_Degree', 'Bachelors_Degree', 'Doctorate_Degree',\n",
      "       'Highschool', 'Some_College', 'Race_Asian', 'Race_White',\n",
      "       'Race_Two_Or_More', 'Race_Black', 'Race_Hispanic', 'Race', 'Education'],\n",
      "      dtype='object')\n"
     ]
    }
   ],
   "source": [
    "print(df.columns)"
   ]
  },
  {
   "cell_type": "code",
   "execution_count": 10,
   "id": "038d97d8-dfb3-4b86-9842-5f3595c276c2",
   "metadata": {},
   "outputs": [],
   "source": [
    "#create a salary dataframe\n",
    "# we will look at years of experience,years at the company and the base salary to predidict total yearly pay\n",
    "# so those three are our features and the outcome, \"total yearly pay is the label  \n",
    "salaryDF = df[['company', 'totalyearlycompensation', 'yearsofexperience', 'yearsatcompany', 'basesalary']]"
   ]
  },
  {
   "cell_type": "code",
   "execution_count": 11,
   "id": "169b1cda-e214-4b3a-a9ac-40fbbdcbef61",
   "metadata": {},
   "outputs": [
    {
     "name": "stdout",
     "output_type": "stream",
     "text": [
      "      company  totalyearlycompensation  yearsofexperience  yearsatcompany  \\\n",
      "0      Oracle                   127000                1.5             1.5   \n",
      "1        eBay                   100000                5.0             3.0   \n",
      "2      Amazon                   310000                8.0             0.0   \n",
      "3       Apple                   372000                7.0             5.0   \n",
      "4   Microsoft                   157000                5.0             3.0   \n",
      "..        ...                      ...                ...             ...   \n",
      "95     Amazon                   148000                1.0             1.0   \n",
      "96     Google                   273000                1.0             1.0   \n",
      "97  Microsoft                   240000                6.0             1.0   \n",
      "98     Google                   268000                5.0             3.5   \n",
      "99     Amazon                   290000               10.0             4.0   \n",
      "\n",
      "    basesalary  \n",
      "0     107000.0  \n",
      "1          0.0  \n",
      "2     155000.0  \n",
      "3     157000.0  \n",
      "4          0.0  \n",
      "..         ...  \n",
      "95         0.0  \n",
      "96    131000.0  \n",
      "97    150700.0  \n",
      "98    142000.0  \n",
      "99    160000.0  \n",
      "\n",
      "[100 rows x 5 columns]\n"
     ]
    }
   ],
   "source": [
    "print(salaryDF.head(100))"
   ]
  },
  {
   "cell_type": "markdown",
   "id": "d706867c-c312-4686-871b-90f31ca66802",
   "metadata": {},
   "source": [
    "# Creating the traning and testing data\n",
    "\n",
    "y = totatyearlypay\n",
    "x1 = yearsofexperience\n",
    "x2 = yearsatcompany\n",
    "x3 = basesalary\n",
    "\n",
    "### Linear regression equation\n",
    "y = w1x1 + w2x2 + w3x3 + b"
   ]
  },
  {
   "cell_type": "code",
   "execution_count": 16,
   "id": "d4cc3298-30d5-43e9-b888-2a501e0ab6e3",
   "metadata": {},
   "outputs": [],
   "source": [
    "x_train = salaryDF.iloc[:50000,2:]           # using the first 50,000 rows and the 2nd to the last column\n",
    "y_train = salaryDF.iloc[:50000,1]            # total yearly pay but only for first 50,000\n",
    "x_test = salaryDF.iloc[50000:,2:]            # testing data set for x_train\n",
    "y_test = salaryDF.iloc[50000:,1]             # testing data set for Y_train\n",
    "x_train.insert(loc=3, column='b', value=1)   # inserting new vaules \n",
    "x_test.insert(loc=3, column='b', value=1)    # inserting new vaules"
   ]
  },
  {
   "cell_type": "code",
   "execution_count": 32,
   "id": "e4b0c275-61e1-4fe7-bb84-f87bc4d0b41b",
   "metadata": {},
   "outputs": [
    {
     "name": "stdout",
     "output_type": "stream",
     "text": [
      "50000    226000\n",
      "50001     89000\n",
      "50002    153000\n",
      "50003    112000\n",
      "50004    150000\n",
      "          ...  \n",
      "62637    327000\n",
      "62638    237000\n",
      "62639    220000\n",
      "62640    280000\n",
      "62641    200000\n",
      "Name: totalyearlycompensation, Length: 12642, dtype: int64\n"
     ]
    }
   ],
   "source": [
    "print(y_test)"
   ]
  },
  {
   "cell_type": "code",
   "execution_count": 31,
   "id": "0d3db2be-a672-4b71-b91d-67eaef6d55f6",
   "metadata": {},
   "outputs": [
    {
     "name": "stdout",
     "output_type": "stream",
     "text": [
      "       yearsofexperience  yearsatcompany  basesalary  b\n",
      "50000                6.0             4.0    147000.0  1\n",
      "50001                2.0             1.0     88000.0  1\n",
      "50002                4.0             0.0    118000.0  1\n",
      "50003                3.0             1.0    112000.0  1\n",
      "50004                4.0             0.0    145000.0  1\n",
      "...                  ...             ...         ... ..\n",
      "62637               10.0             1.0    155000.0  1\n",
      "62638                2.0             2.0    146900.0  1\n",
      "62639               14.0            12.0    157000.0  1\n",
      "62640                8.0             4.0    194688.0  1\n",
      "62641                0.0             0.0    155000.0  1\n",
      "\n",
      "[12642 rows x 4 columns]\n"
     ]
    }
   ],
   "source": [
    "print(x_test)"
   ]
  },
  {
   "cell_type": "markdown",
   "id": "315f2640-ff95-46cb-aad5-78b0d873d02e",
   "metadata": {},
   "source": [
    "# Functions "
   ]
  },
  {
   "cell_type": "code",
   "execution_count": 23,
   "id": "f22d1555-dec0-4279-bef7-95888f57004f",
   "metadata": {},
   "outputs": [],
   "source": [
    "#root mean square error\n",
    "def rmse(targets, predictions):\n",
    "    return np.sqrt((np.square(predictions - targets)).mean())\n",
    "\n",
    "#calucate the weight\n",
    "def calculateWeights(x_train, y_train):\n",
    "    w = np.linalg.inv(np.transpose(x_train).dot(x_train)).dot(np.transpose(x_train).dot(y_train))\n",
    "    return w"
   ]
  },
  {
   "cell_type": "code",
   "execution_count": 24,
   "id": "4d25142b-7029-4e40-b6b7-a15f3e35ed0c",
   "metadata": {},
   "outputs": [
    {
     "name": "stdout",
     "output_type": "stream",
     "text": [
      "(50000, 4)\n"
     ]
    }
   ],
   "source": [
    "#\n",
    "w = calculateWeights(x_train, y_train)\n",
    "print(x_train.shape)"
   ]
  },
  {
   "cell_type": "code",
   "execution_count": 27,
   "id": "d7c2b02a-295f-4ec3-91a8-9d86a432becc",
   "metadata": {},
   "outputs": [
    {
     "name": "stdout",
     "output_type": "stream",
     "text": [
      "92469.43809773956\n",
      "121382.52351504724\n"
     ]
    }
   ],
   "source": [
    "# training error,\n",
    "y_train_pred = x_train.dot(w)\n",
    "train_error = rmse(y_train, y_train_pred)\n",
    "print(train_error)\n",
    "# testing error\n",
    "y_test_pred = x_test.dot(w)\n",
    "test_error = rmse(y_test, y_test_pred)\n",
    "print(test_error)"
   ]
  },
  {
   "cell_type": "code",
   "execution_count": 33,
   "id": "6f083688-95b4-4091-9022-2c94652361f2",
   "metadata": {},
   "outputs": [
    {
     "name": "stdout",
     "output_type": "stream",
     "text": [
      "135847.53227936738\n"
     ]
    }
   ],
   "source": [
    "'''\n",
    "y = totalyearlycompenstaion\n",
    "x1 = yearsofexperience x2 = yearsatcompany x3 = basesalary\n",
    "'''\n",
    "\n",
    "new_pred = np.array([5, 3, 80000, 1]).dot(w)\n",
    "print(new_pred)"
   ]
  },
  {
   "cell_type": "code",
   "execution_count": null,
   "id": "926200ca-465b-4638-8955-8d67d20f03e0",
   "metadata": {},
   "outputs": [],
   "source": []
  }
 ],
 "metadata": {
  "kernelspec": {
   "display_name": "mlenv",
   "language": "python",
   "name": "mlenv"
  },
  "language_info": {
   "codemirror_mode": {
    "name": "ipython",
    "version": 3
   },
   "file_extension": ".py",
   "mimetype": "text/x-python",
   "name": "python",
   "nbconvert_exporter": "python",
   "pygments_lexer": "ipython3",
   "version": "3.7.11"
  }
 },
 "nbformat": 4,
 "nbformat_minor": 5
}
